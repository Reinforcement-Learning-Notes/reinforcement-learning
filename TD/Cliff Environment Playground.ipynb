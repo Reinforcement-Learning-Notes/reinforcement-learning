{
 "cells": [
  {
   "cell_type": "code",
   "execution_count": 1,
   "metadata": {},
   "outputs": [],
   "source": [
    "import gym\n",
    "import numpy as np\n",
    "import sys\n",
    "\n",
    "if \"../\" not in sys.path:\n",
    "  sys.path.append(\"../\") \n",
    "\n",
    "from lib.envs.cliff_walking import CliffWalkingEnv"
   ]
  },
  {
   "cell_type": "code",
   "execution_count": 2,
   "metadata": {},
   "outputs": [
    {
     "name": "stdout",
     "output_type": "stream",
     "text": [
      "36\n",
      "o  o  o  o  o  o  o  o  o  o  o  o\n",
      "o  o  o  o  o  o  o  o  o  o  o  o\n",
      "o  o  o  o  o  o  o  o  o  o  o  o\n",
      "x  C  C  C  C  C  C  C  C  C  C  T\n",
      "\n",
      "(24, -1.0, False, {'prob': 1.0})\n",
      "o  o  o  o  o  o  o  o  o  o  o  o\n",
      "o  o  o  o  o  o  o  o  o  o  o  o\n",
      "x  o  o  o  o  o  o  o  o  o  o  o\n",
      "o  C  C  C  C  C  C  C  C  C  C  T\n",
      "\n",
      "(25, -1.0, False, {'prob': 1.0})\n",
      "o  o  o  o  o  o  o  o  o  o  o  o\n",
      "o  o  o  o  o  o  o  o  o  o  o  o\n",
      "o  x  o  o  o  o  o  o  o  o  o  o\n",
      "o  C  C  C  C  C  C  C  C  C  C  T\n",
      "\n",
      "(26, -1.0, False, {'prob': 1.0})\n",
      "o  o  o  o  o  o  o  o  o  o  o  o\n",
      "o  o  o  o  o  o  o  o  o  o  o  o\n",
      "o  o  x  o  o  o  o  o  o  o  o  o\n",
      "o  C  C  C  C  C  C  C  C  C  C  T\n",
      "\n",
      "(38, -100.0, True, {'prob': 1.0})\n",
      "o  o  o  o  o  o  o  o  o  o  o  o\n",
      "o  o  o  o  o  o  o  o  o  o  o  o\n",
      "o  o  o  o  o  o  o  o  o  o  o  o\n",
      "o  C  x  C  C  C  C  C  C  C  C  T\n",
      "\n"
     ]
    }
   ],
   "source": [
    "env = CliffWalkingEnv()\n",
    "\n",
    "print(env.reset())\n",
    "env.render()\n",
    "\n",
    "print(env.step(0))\n",
    "env.render()\n",
    "\n",
    "print(env.step(1))\n",
    "env.render()\n",
    "\n",
    "print(env.step(1))\n",
    "env.render()\n",
    "\n",
    "print(env.step(2))\n",
    "env.render()"
   ]
  },
  {
   "cell_type": "markdown",
   "metadata": {},
   "source": [
    "The render output shows the grid representation of the environment where:\n",
    "\n",
    "- `o`: empty spaces (walkable areas)\n",
    "- `x`: the agent's current position (starting position)\n",
    "- `C`: cliff cells (which cause the agent to fall and return to the start)\n",
    "- `T`: the target/goal position\n",
    "\n",
    "The environment is a 4x12 grid where the agent starts at the bottom-left corner (marked with `x`), and needs to reach the bottom-right corner (marked with `T`). The bottom row between the start and goal is filled with cliff cells (`C`), which the agent must avoid.\n",
    "\n",
    "Specific important states:\n",
    "- 'x' (start position): state 36\n",
    "\n",
    "- 'C' (cliff positions): states 37 to 46\n",
    "\n",
    "- 'T' (terminal/goal position): state 47\n",
    "\n",
    "Actions:\n",
    "- **0 = ↑**  \n",
    "- **1 = →**  \n",
    "- **2 = ↓**  \n",
    "- **3 = ←**  "
   ]
  }
 ],
 "metadata": {
  "kernelspec": {
   "display_name": "Python 3",
   "language": "python",
   "name": "python3"
  },
  "language_info": {
   "codemirror_mode": {
    "name": "ipython",
    "version": 3
   },
   "file_extension": ".py",
   "mimetype": "text/x-python",
   "name": "python",
   "nbconvert_exporter": "python",
   "pygments_lexer": "ipython3",
   "version": "3.6.4"
  }
 },
 "nbformat": 4,
 "nbformat_minor": 1
}
