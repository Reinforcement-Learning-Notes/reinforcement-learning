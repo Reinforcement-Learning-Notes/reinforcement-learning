{
 "cells": [
  {
   "cell_type": "markdown",
   "id": "c09ada11-d3a6-4837-b4d0-9657106a54b5",
   "metadata": {},
   "source": [
    "# Deep Q-Network (DQN)"
   ]
  },
  {
   "cell_type": "code",
   "execution_count": 7,
   "id": "34722639-6c01-4c5b-ab65-c8d5cb2adaad",
   "metadata": {},
   "outputs": [
    {
     "name": "stdout",
     "output_type": "stream",
     "text": [
      "The autoreload extension is already loaded. To reload it, use:\n",
      "  %reload_ext autoreload\n"
     ]
    }
   ],
   "source": [
    "import numpy as np\n",
    "from torchinfo import summary\n",
    "\n",
    "import ale_py\n",
    "import gymnasium as gym\n",
    "\n",
    "import sys\n",
    "sys.path.append(\"./dqn\") \n",
    "import evaluation\n",
    "from atari_env import make_env\n",
    "from q_network import CNNQNetwork\n",
    "from dqn_cnn import run_dqn\n",
    "\n",
    "%load_ext autoreload\n",
    "%autoreload 2"
   ]
  },
  {
   "cell_type": "markdown",
   "id": "df6a7e12",
   "metadata": {},
   "source": [
    "## preprocessing"
   ]
  },
  {
   "cell_type": "code",
   "execution_count": 3,
   "id": "429b73a1",
   "metadata": {},
   "outputs": [
    {
     "data": {
      "text/plain": [
       "Box(0.0, 1.0, (4, 84, 84), float32)"
      ]
     },
     "execution_count": 3,
     "metadata": {},
     "output_type": "execute_result"
    }
   ],
   "source": [
    "env_id = \"ALE/Breakout-v5\"\n",
    "env = make_env(env_id, render_mode=\"rgb_array\")\n",
    "env.observation_space"
   ]
  },
  {
   "cell_type": "code",
   "execution_count": 6,
   "id": "cc3c1b88",
   "metadata": {},
   "outputs": [
    {
     "data": {
      "image/png": "[encoded data removed]",
      "text/plain": [
       "<Figure size 1000x500 with 2 Axes>"
      ]
     },
     "metadata": {},
     "output_type": "display_data"
    },
    {
     "name": "stdout",
     "output_type": "stream",
     "text": [
      "\n",
      "Verifying frame shifts:\n",
      "Frame 0 of second step should equal Frame 1 of first step: True\n",
      "Frame 1 of second step should equal Frame 2 of first step: True\n",
      "Frame 2 of second step should equal Frame 3 of first step: True\n",
      "New frame in second step should be different from all previous: True\n"
     ]
    }
   ],
   "source": [
    "import matplotlib.pyplot as plt\n",
    "\n",
    "obs, _ = env.reset()\n",
    "\n",
    "# Take first step\n",
    "obs1, _, _, _, _ = env.step(env.action_space.sample())\n",
    "\n",
    "# Take second step\n",
    "obs2, _, _, _, _ = env.step(env.action_space.sample())\n",
    "\n",
    "# Create a side-by-side plot\n",
    "fig, axes = plt.subplots(1, 2, figsize=(10, 5))  # 1 row, 2 columns\n",
    "\n",
    "# Display first frame (obs1[-1])\n",
    "axes[0].imshow(obs1[-1], cmap='gray')\n",
    "axes[0].set_title(\"After First Step\")\n",
    "axes[0].axis('off')  # Hide axes for cleaner look\n",
    "\n",
    "# Display second frame (obs2[-1])\n",
    "axes[1].imshow(obs2[-1], cmap='gray')\n",
    "axes[1].set_title(\"After Second Step\")\n",
    "axes[1].axis('off')\n",
    "\n",
    "plt.tight_layout()  # Adjust spacing between subplots\n",
    "plt.show()\n",
    "\n",
    "# Verify frames have shifted\n",
    "print(\"\\nVerifying frame shifts:\")\n",
    "print(f\"Frame 0 of second step should equal Frame 1 of first step: {np.allclose(obs2[0], obs1[1])}\")\n",
    "print(f\"Frame 1 of second step should equal Frame 2 of first step: {np.allclose(obs2[1], obs1[2])}\")\n",
    "print(f\"Frame 2 of second step should equal Frame 3 of first step: {np.allclose(obs2[2], obs1[3])}\")\n",
    "print(f\"New frame in second step should be different from all previous: {not np.any(np.allclose(obs2[3], obs1, atol=0.1))}\")\n",
    "\n",
    "env.close()"
   ]
  },
  {
   "cell_type": "markdown",
   "id": "12adc3f2",
   "metadata": {},
   "source": [
    "## Q-Network with CNN"
   ]
  },
  {
   "cell_type": "code",
   "execution_count": 17,
   "id": "14164c64",
   "metadata": {},
   "outputs": [
    {
     "name": "stdout",
     "output_type": "stream",
     "text": [
      "\n",
      "Model Summary for input shape: (1, 4, 84, 84)\n",
      "=====================================================================================================================================================================\n",
      "Layer (type:depth-idx)                   Input Shape               Output Shape              Param #                   Kernel Shape              Mult-Adds\n",
      "=====================================================================================================================================================================\n",
      "CNNQNetwork                              [1, 4, 84, 84]            [1, 6]                    --                        --                        --\n",
      "├─Sequential: 1-1                        [1, 4, 84, 84]            [1, 6]                    --                        --                        --\n",
      "│    └─Conv2d: 2-1                       [1, 4, 84, 84]            [1, 32, 20, 20]           8,224                     [8, 8]                    3,289,600\n",
      "│    └─ReLU: 2-2                         [1, 32, 20, 20]           [1, 32, 20, 20]           --                        --                        --\n",
      "│    └─Conv2d: 2-3                       [1, 32, 20, 20]           [1, 64, 9, 9]             32,832                    [4, 4]                    2,659,392\n",
      "│    └─ReLU: 2-4                         [1, 64, 9, 9]             [1, 64, 9, 9]             --                        --                        --\n",
      "│    └─Conv2d: 2-5                       [1, 64, 9, 9]             [1, 64, 7, 7]             36,928                    [3, 3]                    1,809,472\n",
      "│    └─ReLU: 2-6                         [1, 64, 7, 7]             [1, 64, 7, 7]             --                        --                        --\n",
      "│    └─Flatten: 2-7                      [1, 64, 7, 7]             [1, 3136]                 --                        --                        --\n",
      "│    └─Linear: 2-8                       [1, 3136]                 [1, 512]                  1,606,144                 --                        1,606,144\n",
      "│    └─ReLU: 2-9                         [1, 512]                  [1, 512]                  --                        --                        --\n",
      "│    └─Linear: 2-10                      [1, 512]                  [1, 6]                    3,078                     --                        3,078\n",
      "=====================================================================================================================================================================\n",
      "Total params: 1,687,206\n",
      "Trainable params: 1,687,206\n",
      "Non-trainable params: 0\n",
      "Total mult-adds (M): 9.37\n",
      "=====================================================================================================================================================================\n",
      "Input size (MB): 0.11\n",
      "Forward/backward pass size (MB): 0.17\n",
      "Params size (MB): 6.75\n",
      "Estimated Total Size (MB): 7.03\n",
      "=====================================================================================================================================================================\n"
     ]
    }
   ],
   "source": [
    "env_id = \"ALE/Pong-v5\"\n",
    "env = make_env(env_id, render_mode=\"rgb_array\")\n",
    "\n",
    "obs, _ = env.reset()\n",
    "q_net = CNNQNetwork(env.observation_space, env.action_space)\n",
    "\n",
    "# Get the correct input shape from the environment\n",
    "input_shape = env.observation_space.shape\n",
    "\n",
    "# Print model summary with correct input shape\n",
    "print(f\"\\nModel Summary for input shape: {(1,) + input_shape}\")\n",
    "model_summary = summary(\n",
    "    q_net,\n",
    "    input_size=(1,) + input_shape,  # Add batch dimension\n",
    "    col_names=[\"input_size\", \"output_size\", \"num_params\", \"kernel_size\", \"mult_adds\"],\n",
    "    verbose=0\n",
    ")\n",
    "print(model_summary)"
   ]
  },
  {
   "cell_type": "markdown",
   "id": "14af9427-8166-40fa-a581-51599d3be306",
   "metadata": {},
   "source": [
    "## Train DQN agent with target network"
   ]
  },
  {
   "cell_type": "code",
   "execution_count": null,
   "id": "6a8c390a",
   "metadata": {},
   "outputs": [
    {
     "ename": "",
     "evalue": "",
     "output_type": "error",
     "traceback": [
      "\u001b[1;31mThe Kernel crashed while executing code in the current cell or a previous cell. \n",
      "\u001b[1;31mPlease review the code in the cell(s) to identify a possible cause of the failure. \n",
      "\u001b[1;31mClick <a href='https://aka.ms/vscodeJupyterKernelCrash'>here</a> for more info. \n",
      "\u001b[1;31mView Jupyter <a href='command:jupyter.viewOutput'>log</a> for further details."
     ]
    }
   ],
   "source": [
    "env_id = \"ALE/Pong-v5\"\n",
    "# when in cpu, around 35mins\n",
    "q_net = run_dqn(\n",
    "    env_id= env_id,\n",
    "    n_timesteps=1000_000,     # \n",
    "    learning_starts=5_000,     # later learning starts\n",
    "    exploration_fraction=0.5, # slower decay over 50% of timesteps\n",
    "    replay_buffer_size=100_000,\n",
    "    learning_rate=5e-4,\n",
    "    batch_size=128,\n",
    "    update_interval = 4,\n",
    "    target_network_update_interval=1000,\n",
    "    evaluation_interval=100_000,\n",
    "    gamma=0.99,\n",
    ")"
   ]
  },
  {
   "cell_type": "markdown",
   "id": "52450a1f-60b4-4098-bc64-5860476a50cc",
   "metadata": {},
   "source": [
    "### Visualize the trained agent"
   ]
  },
  {
   "cell_type": "code",
   "execution_count": 28,
   "id": "56e18bf9-e3e4-495d-be4b-6acf0ae28ee1",
   "metadata": {},
   "outputs": [
    {
     "name": "stdout",
     "output_type": "stream",
     "text": [
      "Mean episode reward: -14.50 +/- 0.50\n"
     ]
    },
    {
     "data": {
      "text/plain": [
       "(-14.5, 0.5)"
      ]
     },
     "execution_count": 28,
     "metadata": {},
     "output_type": "execute_result"
    }
   ],
   "source": [
    "import torch\n",
    "\n",
    "eval_env = make_env(\"ALE/Pong-v5\", render_mode=\"rgb_array\")\n",
    "n_eval_episodes = 2\n",
    "eval_exploration_rate = 0.0\n",
    "video_name = f\"DQN_pong\"\n",
    "\n",
    "# Optional: load checkpoint\n",
    "q_net = CNNQNetwork(env.observation_space, env.action_space)\n",
    "q_net.load_state_dict(torch.load(\"./logs/q_net_checkpoint_ALE_Pong-v5_100000.pth\"))\n",
    "\n",
    "evaluation.evaluate_policy(\n",
    "    eval_env,\n",
    "    q_net,\n",
    "    n_eval_episodes,\n",
    "    eval_exploration_rate=eval_exploration_rate,\n",
    "    video_name=video_name,\n",
    ")\n"
   ]
  },
  {
   "cell_type": "markdown",
   "id": "642e02d8-bd9c-4a07-9a0d-86748dcdd391",
   "metadata": {},
   "source": [
    "## Training DQN agent on flappy bird:\n",
    "\n",
    "You can go in the [GitHub repo](https://github.com/araffin/flappy-bird-gymnasium/tree/patch-1) to learn more about this environment.\n",
    "\n",
    "<div>\n",
    "    <img src=\"https://raw.githubusercontent.com/markub3327/flappy-bird-gymnasium/main/imgs/dqn.gif\" width=\"300\"/>\n",
    "</div>\n"
   ]
  },
  {
   "cell_type": "code",
   "execution_count": null,
   "id": "75e9703d-7b5b-4188-9737-786476a627ec",
   "metadata": {},
   "outputs": [],
   "source": [
    "!pip install \"flappy-bird-gymnasium @ git+https://github.com/araffin/flappy-bird-gymnasium@patch-1\""
   ]
  },
  {
   "cell_type": "code",
   "execution_count": null,
   "id": "e2a0eef2-d652-4224-86c6-8f669e82ec3e",
   "metadata": {},
   "outputs": [],
   "source": [
    "import flappy_bird_gymnasium  # noqa: F401"
   ]
  },
  {
   "cell_type": "code",
   "execution_count": null,
   "id": "bf79677e-561c-4bb5-95d2-d4a99eb0579c",
   "metadata": {},
   "outputs": [],
   "source": [
    "env_id = \"FlappyBird-v0\"\n",
    "\n",
    "q_net = run_dqn(\n",
    "    env_id=env_id,\n",
    "    replay_buffer_size=100_000,\n",
    "    # Note: you can remove the target network\n",
    "    # by setting target_network_update_interval=1\n",
    "    target_network_update_interval=250,\n",
    "    learning_starts=10_000,\n",
    "    exploration_initial_eps=1.0,\n",
    "    exploration_final_eps=0.03,\n",
    "    exploration_fraction=0.1,\n",
    "    n_timesteps=500_000,\n",
    "    update_interval=4,\n",
    "    learning_rate=1e-3,\n",
    "    batch_size=128,\n",
    "    gamma=0.98,\n",
    "    n_eval_episodes=5,\n",
    "    evaluation_interval=50000,\n",
    "    n_hidden_units=256,\n",
    "    # No exploration during evaluation\n",
    "    # (deteministic policy)\n",
    "    eval_exploration_rate=0.0,\n",
    "    seed=2023,\n",
    "    eval_render_mode=None,\n",
    ")"
   ]
  },
  {
   "cell_type": "markdown",
   "id": "9a08cc96-2601-49dc-921c-44e2a048df81",
   "metadata": {},
   "source": [
    "### Record a video of the trained agent"
   ]
  },
  {
   "cell_type": "code",
   "execution_count": null,
   "id": "e9e191f2-e3b3-41d0-bff2-50e1b9c9d19c",
   "metadata": {},
   "outputs": [],
   "source": [
    "eval_env = gym.make(env_id, render_mode=\"rgb_array\")\n",
    "n_eval_episodes = 3\n",
    "eval_exploration_rate = 0.00\n",
    "video_name = f\"DQN_{env_id}\"\n",
    "\n",
    "\n",
    "# Optional: load checkpoint\n",
    "q_net = QNetwork(eval_env.observation_space, eval_env.action_space, n_hidden_units=256)\n",
    "# Convert weights from float32 to float64 to match flappy bird obs\n",
    "q_net.double()\n",
    "q_net.load_state_dict(th.load(\"../logs/q_net_checkpoint_FlappyBird-v0_200000.pth\"))\n",
    "\n",
    "evaluation.evaluate_policy(\n",
    "    eval_env,\n",
    "    q_net,\n",
    "    n_eval_episodes,\n",
    "    eval_exploration_rate=eval_exploration_rate,\n",
    "    video_name=video_name,\n",
    ")\n",
    "\n",
    "show_videos(video_folder, prefix=video_name)"
   ]
  },
  {
   "cell_type": "markdown",
   "id": "69a60230-6477-4318-8d60-10f6eada6064",
   "metadata": {},
   "source": [
    "### Going further\n",
    "\n",
    "- analyse the learned q-values\n",
    "- explore different value for the target update, use soft update instead of hard-copy\n",
    "- experiment with Huber loss (smooth l1 loss) instead of l2 loss (mean squared error)\n",
    "- play with different environments\n",
    "- implement a CNN to play flappybird/pong from pixels (need to stack frames)\n",
    "- implement DQN extensions (double Q-learning, prioritized experience replay, ...)"
   ]
  },
  {
   "cell_type": "markdown",
   "id": "6be2cc11-79e6-40c6-ab61-f78fec498315",
   "metadata": {},
   "source": [
    "## Conclusion\n",
    "\n",
    "In this notebook, you have seen how to implement the DQN algorithm (update rule and training loop) using all the components from part I (replay buffer, epsilon-greedy exploration strategy, Q-Network, ...)."
   ]
  }
 ],
 "metadata": {
  "kernelspec": {
   "display_name": "l2rpn",
   "language": "python",
   "name": "python3"
  },
  "language_info": {
   "codemirror_mode": {
    "name": "ipython",
    "version": 3
   },
   "file_extension": ".py",
   "mimetype": "text/x-python",
   "name": "python",
   "nbconvert_exporter": "python",
   "pygments_lexer": "ipython3",
   "version": "3.9.21"
  }
 },
 "nbformat": 4,
 "nbformat_minor": 5
}
