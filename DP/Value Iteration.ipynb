{
 "cells": [
  {
   "cell_type": "code",
   "execution_count": 3,
   "metadata": {
    "collapsed": true
   },
   "outputs": [],
   "source": [
    "import numpy as np\n",
    "import pprint\n",
    "import sys\n",
    "if \"../\" not in sys.path:\n",
    "  sys.path.append(\"../\") \n",
    "from lib.envs.gridworld import GridworldEnv"
   ]
  },
  {
   "cell_type": "code",
   "execution_count": 4,
   "metadata": {
    "collapsed": true
   },
   "outputs": [],
   "source": [
    "pp = pprint.PrettyPrinter(indent=2)\n",
    "env = GridworldEnv()"
   ]
  },
  {
   "cell_type": "markdown",
   "metadata": {},
   "source": [
    "Intitution: If we know the solution to subproblems $v_*(s')$\n",
    "\n",
    "Then solution $v_*(s)$ can be found by one-step lookahead: $v_*(s) \\leftarrow \\max_{a \\in \\mathcal{A}} [\\mathcal{R}_s^a + \\gamma \\sum_{s' \\in \\mathcal{S}} \\mathcal{P}_{ss'}^a v_*(s')]$\n",
    "\n",
    "Pipeline:\n",
    "\n",
    "1. Initialize $V(s) = 0$ for all states $s \\in S$.\n",
    "\n",
    "2. Repeat until convergence:$\\Delta \\gets 0$\n",
    "   For each state $s \\in S$:\n",
    "   $$\n",
    "   v \\gets V(s)\n",
    "   $$\n",
    "   $$\n",
    "   V(s) \\gets \\max_a \\sum_{s'} P(s' | s, a) \\big[ R(s, a) + \\gamma V(s') \\big]\n",
    "   $$\n",
    "   $$\n",
    "   \\Delta \\gets \\max(\\Delta, |v - V(s)|)\n",
    "   $$\n",
    "   Until $\\Delta < \\epsilon$.\n",
    "\n",
    "3. For each state $s \\in S$: $\\pi^*(s) \\gets \\arg\\max_a \\sum_{s'} P(s' | s, a) \\big[ R(s, a) + \\gamma V^*(s') \\big]$\n",
    "\n",
    "4. Return $V^*(s), \\pi^*(s)$."
   ]
  },
  {
   "cell_type": "code",
   "execution_count": 8,
   "metadata": {
    "collapsed": true
   },
   "outputs": [],
   "source": [
    "def value_iteration(env, theta=0.0001, discount_factor=1.0):\n",
    "    \"\"\"\n",
    "    Value Iteration Algorithm to compute optimal policy and value function.\n",
    "    \n",
    "    Args:\n",
    "        env: OpenAI environment. env.P represents the transition probabilities of the environment.\n",
    "            env.P[s][a] is a list of transition tuples (prob, next_state, reward, done).\n",
    "            env.nS is the number of states in the environment. \n",
    "            env.nA is the number of actions in the environment.\n",
    "        theta: A small threshold for the change in value function to decide convergence.\n",
    "        discount_factor: The gamma (discount factor) used in the Bellman equation for future rewards.\n",
    "        \n",
    "    Returns:\n",
    "        policy: The optimal policy, a matrix of size (nS, nA), where policy[s, a] = 1 if action 'a' is optimal at state 's'.\n",
    "        V: The optimal value function, a vector of length nS, containing the maximum expected rewards from each state.\n",
    "    \"\"\"\n",
    "\n",
    "    def one_step_lookahead(state, V):\n",
    "        \"\"\"\n",
    "        Helper function to compute the expected value for each action at the given state.\n",
    "        \n",
    "        Args:\n",
    "            state: The current state (int).\n",
    "            V: Current value function (vector of size env.nS).\n",
    "        \n",
    "        Returns:\n",
    "            A vector of size env.nA containing the expected value for each action in the given state.\n",
    "        \"\"\"\n",
    "        Vs = np.zeros(env.nA)  # Initialize the value array for each action in the current state\n",
    "        \n",
    "        # Loop over all actions\n",
    "        for a in range(env.nA):  \n",
    "            for prob, next_state, reward, done in env.P[state][a]:  \n",
    "                # Bellman equation\n",
    "                Vs[a] += prob * (reward + discount_factor * V[next_state])\n",
    "                \n",
    "        return Vs\n",
    "\n",
    "    V = np.zeros(env.nS)  \n",
    "    policy = np.zeros([env.nS, env.nA])\n",
    "    \n",
    "    iteration = 0\n",
    "    while True:\n",
    "        # Track the maximum change in value function during this iteration\n",
    "        delta = 0  \n",
    "\n",
    "        for s in range(env.nS):\n",
    "            # One-step lookahead for the optimal value of each action\n",
    "            Vs = one_step_lookahead(s, V)\n",
    "            optimal_action_value = np.max(Vs) \n",
    "\n",
    "            # Compute the change in value function for this state\n",
    "            delta = max(delta, np.abs(optimal_action_value - V[s]))\n",
    "            \n",
    "            # Update the value function for the state\n",
    "            V[s] = optimal_action_value\n",
    "        \n",
    "        iteration += 1\n",
    "        \n",
    "        # Check for convergence\n",
    "        if delta < theta:\n",
    "            break\n",
    "    \n",
    "    # Determine the optimal policy by selecting the action with the highest value for each state\n",
    "    for s in range(env.nS):\n",
    "        Vs = one_step_lookahead(s, V)\n",
    "        best_action = np.argmax(Vs)  \n",
    "        policy[s, best_action] = 1.0  \n",
    "\n",
    "    print(f\"Optimal policy found after {iteration} iterations.\") \n",
    "    return policy, V"
   ]
  },
  {
   "cell_type": "code",
   "execution_count": 9,
   "metadata": {},
   "outputs": [
    {
     "name": "stdout",
     "output_type": "stream",
     "text": [
      "Optimal policy found after 4 iterations.\n",
      "Policy Probability Distribution:\n",
      "[[1. 0. 0. 0.]\n",
      " [0. 0. 0. 1.]\n",
      " [0. 0. 0. 1.]\n",
      " [0. 0. 1. 0.]\n",
      " [1. 0. 0. 0.]\n",
      " [1. 0. 0. 0.]\n",
      " [1. 0. 0. 0.]\n",
      " [0. 0. 1. 0.]\n",
      " [1. 0. 0. 0.]\n",
      " [1. 0. 0. 0.]\n",
      " [0. 1. 0. 0.]\n",
      " [0. 0. 1. 0.]\n",
      " [1. 0. 0. 0.]\n",
      " [0. 1. 0. 0.]\n",
      " [0. 1. 0. 0.]\n",
      " [1. 0. 0. 0.]]\n",
      "\n",
      "Reshaped Grid Policy (0=up, 1=right, 2=down, 3=left):\n",
      "[[0 3 3 2]\n",
      " [0 0 0 2]\n",
      " [0 0 1 2]\n",
      " [0 1 1 0]]\n",
      "\n",
      "Value Function:\n",
      "[ 0. -1. -2. -3. -1. -2. -3. -2. -2. -3. -2. -1. -3. -2. -1.  0.]\n",
      "\n",
      "Reshaped Grid Value Function:\n",
      "[[ 0. -1. -2. -3.]\n",
      " [-1. -2. -3. -2.]\n",
      " [-2. -3. -2. -1.]\n",
      " [-3. -2. -1.  0.]]\n",
      "\n"
     ]
    }
   ],
   "source": [
    "policy, v = value_iteration(env)\n",
    "\n",
    "print(\"Policy Probability Distribution:\")\n",
    "print(policy)\n",
    "print(\"\")\n",
    "\n",
    "print(\"Reshaped Grid Policy (0=up, 1=right, 2=down, 3=left):\")\n",
    "print(np.reshape(np.argmax(policy, axis=1), env.shape))\n",
    "print(\"\")\n",
    "\n",
    "print(\"Value Function:\")\n",
    "print(v)\n",
    "print(\"\")\n",
    "\n",
    "print(\"Reshaped Grid Value Function:\")\n",
    "print(v.reshape(env.shape))\n",
    "print(\"\")"
   ]
  },
  {
   "cell_type": "code",
   "execution_count": 7,
   "metadata": {},
   "outputs": [],
   "source": [
    "# Test the value function\n",
    "expected_v = np.array([ 0, -1, -2, -3, -1, -2, -3, -2, -2, -3, -2, -1, -3, -2, -1,  0])\n",
    "np.testing.assert_array_almost_equal(v, expected_v, decimal=2)"
   ]
  }
 ],
 "metadata": {
  "kernelspec": {
   "display_name": "Python 3",
   "language": "python",
   "name": "python3"
  },
  "language_info": {
   "codemirror_mode": {
    "name": "ipython",
    "version": 3
   },
   "file_extension": ".py",
   "mimetype": "text/x-python",
   "name": "python",
   "nbconvert_exporter": "python",
   "pygments_lexer": "ipython3",
   "version": "3.9.21"
  }
 },
 "nbformat": 4,
 "nbformat_minor": 1
}
